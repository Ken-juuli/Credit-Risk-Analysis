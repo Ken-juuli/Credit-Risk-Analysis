{
 "cells": [
  {
   "cell_type": "markdown",
   "metadata": {},
   "source": [
    "# 6.3 Geographic Visualization "
   ]
  },
  {
   "cell_type": "markdown",
   "metadata": {},
   "source": [
    "### ※ Disclaimer: State ID  data is not genuine and I made it for the purpose of the exercise.\n"
   ]
  },
  {
   "cell_type": "markdown",
   "metadata": {},
   "source": [
    "### 1. Importing data and libraries"
   ]
  },
  {
   "cell_type": "code",
   "execution_count": 6,
   "metadata": {},
   "outputs": [],
   "source": [
    "import pandas as pd\n",
    "import numpy as np\n",
    "import seaborn as sns\n",
    "import matplotlib.pyplot as plt\n",
    "import matplotlib\n",
    "import os\n",
    "import geopandas as gpd\n",
    "from geopandas import GeoDataFrame\n",
    "import fiona\n",
    "import shapely\n",
    "import pyproj\n",
    "from osgeo import gdal"
   ]
  },
  {
   "cell_type": "code",
   "execution_count": 7,
   "metadata": {},
   "outputs": [],
   "source": [
    "# This command prompts matplotlib visuals to appear in the notebook.\n",
    "\n",
    "%matplotlib inline"
   ]
  },
  {
   "cell_type": "code",
   "execution_count": 8,
   "metadata": {},
   "outputs": [],
   "source": [
    "# Creat path\n",
    "path = r'D:\\ドキュメント\\Study\\CareerFoundry\\Achievement 6'"
   ]
  },
  {
   "cell_type": "code",
   "execution_count": 9,
   "metadata": {},
   "outputs": [],
   "source": [
    "# Import the recipes data.\n",
    "\n",
    "df = pd.read_csv(os.path.join(path, '02 Data','Prepared Data','vehicle loan customer_cleansed.csv'), index_col = False)"
   ]
  },
  {
   "cell_type": "code",
   "execution_count": 10,
   "metadata": {},
   "outputs": [],
   "source": [
    "# Import \".shp\" file for india. shape outline using the Geopandas `read_csv` command.\n",
    "\n",
    "India = gpd.read_file(os.path.join(path, '02 Data', 'Original Data', 'maps-master','States'))"
   ]
  },
  {
   "cell_type": "code",
   "execution_count": 11,
   "metadata": {},
   "outputs": [],
   "source": [
    "# import state ID ※\n",
    "\n",
    "id = pd.read_excel(os.path.join(path, '02 Data','Original Data','india state.xlsx'), index_col = False)"
   ]
  },
  {
   "cell_type": "markdown",
   "metadata": {},
   "source": [
    "### 2. Data wrangling and merging"
   ]
  },
  {
   "cell_type": "markdown",
   "metadata": {},
   "source": [
    "##### Fix dummy columns"
   ]
  },
  {
   "cell_type": "code",
   "execution_count": 12,
   "metadata": {},
   "outputs": [],
   "source": [
    "India_with_id = India.merge(id, on = ['ST_NM'], indicator = False)"
   ]
  },
  {
   "cell_type": "code",
   "execution_count": 13,
   "metadata": {},
   "outputs": [
    {
     "data": {
      "text/html": [
       "<div>\n",
       "<style scoped>\n",
       "    .dataframe tbody tr th:only-of-type {\n",
       "        vertical-align: middle;\n",
       "    }\n",
       "\n",
       "    .dataframe tbody tr th {\n",
       "        vertical-align: top;\n",
       "    }\n",
       "\n",
       "    .dataframe thead th {\n",
       "        text-align: right;\n",
       "    }\n",
       "</style>\n",
       "<table border=\"1\" class=\"dataframe\">\n",
       "  <thead>\n",
       "    <tr style=\"text-align: right;\">\n",
       "      <th></th>\n",
       "      <th>ST_NM</th>\n",
       "      <th>geometry</th>\n",
       "      <th>State_ID</th>\n",
       "    </tr>\n",
       "  </thead>\n",
       "  <tbody>\n",
       "    <tr>\n",
       "      <th>0</th>\n",
       "      <td>Assam</td>\n",
       "      <td>POLYGON ((95.97166 27.96254, 95.97174 27.96227...</td>\n",
       "      <td>15</td>\n",
       "    </tr>\n",
       "    <tr>\n",
       "      <th>1</th>\n",
       "      <td>Karnataka</td>\n",
       "      <td>POLYGON ((77.32647 18.45884, 77.32648 18.45803...</td>\n",
       "      <td>8</td>\n",
       "    </tr>\n",
       "    <tr>\n",
       "      <th>2</th>\n",
       "      <td>Meghalaya</td>\n",
       "      <td>POLYGON ((91.82534 26.11950, 91.82610 26.11935...</td>\n",
       "      <td>22</td>\n",
       "    </tr>\n",
       "    <tr>\n",
       "      <th>3</th>\n",
       "      <td>Punjab</td>\n",
       "      <td>POLYGON ((75.83873 32.51270, 75.84163 32.51123...</td>\n",
       "      <td>16</td>\n",
       "    </tr>\n",
       "    <tr>\n",
       "      <th>4</th>\n",
       "      <td>Rajasthan</td>\n",
       "      <td>POLYGON ((73.97324 30.12272, 73.97508 30.12008...</td>\n",
       "      <td>7</td>\n",
       "    </tr>\n",
       "    <tr>\n",
       "      <th>5</th>\n",
       "      <td>Tripura</td>\n",
       "      <td>POLYGON ((92.16804 24.52749, 92.16892 24.52718...</td>\n",
       "      <td>21</td>\n",
       "    </tr>\n",
       "    <tr>\n",
       "      <th>6</th>\n",
       "      <td>Uttarakhand</td>\n",
       "      <td>POLYGON ((79.07185 31.45610, 79.07263 31.45519...</td>\n",
       "      <td>19</td>\n",
       "    </tr>\n",
       "    <tr>\n",
       "      <th>7</th>\n",
       "      <td>Telangana</td>\n",
       "      <td>POLYGON ((78.32306 19.91679, 78.32434 19.91674...</td>\n",
       "      <td>12</td>\n",
       "    </tr>\n",
       "    <tr>\n",
       "      <th>8</th>\n",
       "      <td>Bihar</td>\n",
       "      <td>POLYGON ((84.10851 27.52135, 84.10899 27.52069...</td>\n",
       "      <td>3</td>\n",
       "    </tr>\n",
       "    <tr>\n",
       "      <th>9</th>\n",
       "      <td>Kerala</td>\n",
       "      <td>POLYGON ((74.98962 12.79555, 74.99124 12.79561...</td>\n",
       "      <td>13</td>\n",
       "    </tr>\n",
       "    <tr>\n",
       "      <th>10</th>\n",
       "      <td>Madhya Pradesh</td>\n",
       "      <td>POLYGON ((78.35864 26.86918, 78.35998 26.86916...</td>\n",
       "      <td>5</td>\n",
       "    </tr>\n",
       "    <tr>\n",
       "      <th>11</th>\n",
       "      <td>Gujarat</td>\n",
       "      <td>MULTIPOLYGON (((69.33947 22.38579, 69.33982 22...</td>\n",
       "      <td>9</td>\n",
       "    </tr>\n",
       "    <tr>\n",
       "      <th>12</th>\n",
       "      <td>Odisha</td>\n",
       "      <td>POLYGON ((86.80544 20.73296, 86.80887 20.73154...</td>\n",
       "      <td>11</td>\n",
       "    </tr>\n",
       "    <tr>\n",
       "      <th>13</th>\n",
       "      <td>Chhattisgarh</td>\n",
       "      <td>POLYGON ((83.32474 24.10418, 83.32704 24.10237...</td>\n",
       "      <td>17</td>\n",
       "    </tr>\n",
       "    <tr>\n",
       "      <th>14</th>\n",
       "      <td>Haryana</td>\n",
       "      <td>POLYGON ((76.82285 30.92836, 76.82309 30.92824...</td>\n",
       "      <td>18</td>\n",
       "    </tr>\n",
       "    <tr>\n",
       "      <th>15</th>\n",
       "      <td>Himachal Pradesh</td>\n",
       "      <td>POLYGON ((76.79272 33.25664, 76.79396 33.25648...</td>\n",
       "      <td>20</td>\n",
       "    </tr>\n",
       "    <tr>\n",
       "      <th>16</th>\n",
       "      <td>Jharkhand</td>\n",
       "      <td>POLYGON ((87.58438 25.34912, 87.58480 25.34872...</td>\n",
       "      <td>14</td>\n",
       "    </tr>\n",
       "    <tr>\n",
       "      <th>17</th>\n",
       "      <td>Tamil Nadu</td>\n",
       "      <td>MULTIPOLYGON (((79.78144 11.90281, 79.78245 11...</td>\n",
       "      <td>6</td>\n",
       "    </tr>\n",
       "    <tr>\n",
       "      <th>18</th>\n",
       "      <td>Uttar Pradesh</td>\n",
       "      <td>MULTIPOLYGON (((79.36626 25.17159, 79.36538 25...</td>\n",
       "      <td>1</td>\n",
       "    </tr>\n",
       "    <tr>\n",
       "      <th>19</th>\n",
       "      <td>West Bengal</td>\n",
       "      <td>MULTIPOLYGON (((88.05099 21.50899, 88.04896 21...</td>\n",
       "      <td>4</td>\n",
       "    </tr>\n",
       "    <tr>\n",
       "      <th>20</th>\n",
       "      <td>Andhra Pradesh</td>\n",
       "      <td>MULTIPOLYGON (((80.77754 15.86372, 80.77785 15...</td>\n",
       "      <td>10</td>\n",
       "    </tr>\n",
       "    <tr>\n",
       "      <th>21</th>\n",
       "      <td>Maharashtra</td>\n",
       "      <td>MULTIPOLYGON (((74.38930 22.03234, 74.38946 22...</td>\n",
       "      <td>2</td>\n",
       "    </tr>\n",
       "  </tbody>\n",
       "</table>\n",
       "</div>"
      ],
      "text/plain": [
       "               ST_NM                                           geometry  \\\n",
       "0              Assam  POLYGON ((95.97166 27.96254, 95.97174 27.96227...   \n",
       "1          Karnataka  POLYGON ((77.32647 18.45884, 77.32648 18.45803...   \n",
       "2          Meghalaya  POLYGON ((91.82534 26.11950, 91.82610 26.11935...   \n",
       "3             Punjab  POLYGON ((75.83873 32.51270, 75.84163 32.51123...   \n",
       "4          Rajasthan  POLYGON ((73.97324 30.12272, 73.97508 30.12008...   \n",
       "5            Tripura  POLYGON ((92.16804 24.52749, 92.16892 24.52718...   \n",
       "6        Uttarakhand  POLYGON ((79.07185 31.45610, 79.07263 31.45519...   \n",
       "7          Telangana  POLYGON ((78.32306 19.91679, 78.32434 19.91674...   \n",
       "8              Bihar  POLYGON ((84.10851 27.52135, 84.10899 27.52069...   \n",
       "9             Kerala  POLYGON ((74.98962 12.79555, 74.99124 12.79561...   \n",
       "10    Madhya Pradesh  POLYGON ((78.35864 26.86918, 78.35998 26.86916...   \n",
       "11           Gujarat  MULTIPOLYGON (((69.33947 22.38579, 69.33982 22...   \n",
       "12            Odisha  POLYGON ((86.80544 20.73296, 86.80887 20.73154...   \n",
       "13      Chhattisgarh  POLYGON ((83.32474 24.10418, 83.32704 24.10237...   \n",
       "14           Haryana  POLYGON ((76.82285 30.92836, 76.82309 30.92824...   \n",
       "15  Himachal Pradesh  POLYGON ((76.79272 33.25664, 76.79396 33.25648...   \n",
       "16         Jharkhand  POLYGON ((87.58438 25.34912, 87.58480 25.34872...   \n",
       "17        Tamil Nadu  MULTIPOLYGON (((79.78144 11.90281, 79.78245 11...   \n",
       "18     Uttar Pradesh  MULTIPOLYGON (((79.36626 25.17159, 79.36538 25...   \n",
       "19       West Bengal  MULTIPOLYGON (((88.05099 21.50899, 88.04896 21...   \n",
       "20    Andhra Pradesh  MULTIPOLYGON (((80.77754 15.86372, 80.77785 15...   \n",
       "21       Maharashtra  MULTIPOLYGON (((74.38930 22.03234, 74.38946 22...   \n",
       "\n",
       "    State_ID  \n",
       "0         15  \n",
       "1          8  \n",
       "2         22  \n",
       "3         16  \n",
       "4          7  \n",
       "5         21  \n",
       "6         19  \n",
       "7         12  \n",
       "8          3  \n",
       "9         13  \n",
       "10         5  \n",
       "11         9  \n",
       "12        11  \n",
       "13        17  \n",
       "14        18  \n",
       "15        20  \n",
       "16        14  \n",
       "17         6  \n",
       "18         1  \n",
       "19         4  \n",
       "20        10  \n",
       "21         2  "
      ]
     },
     "execution_count": 13,
     "metadata": {},
     "output_type": "execute_result"
    }
   ],
   "source": [
    "India_with_id"
   ]
  },
  {
   "cell_type": "code",
   "execution_count": 14,
   "metadata": {},
   "outputs": [],
   "source": [
    "df_marged = df.merge(India_with_id, on = ['State_ID'], indicator = True )"
   ]
  },
  {
   "cell_type": "code",
   "execution_count": 15,
   "metadata": {},
   "outputs": [],
   "source": [
    "# creat data frame with only defaulted customers\n",
    "\n",
    "defaulted = df_marged[df_marged['loan_default']==True]"
   ]
  },
  {
   "cell_type": "code",
   "execution_count": 16,
   "metadata": {},
   "outputs": [
    {
     "data": {
      "text/plain": [
       "(50611, 33)"
      ]
     },
     "execution_count": 16,
     "metadata": {},
     "output_type": "execute_result"
    }
   ],
   "source": [
    "defaulted.shape"
   ]
  },
  {
   "cell_type": "markdown",
   "metadata": {},
   "source": [
    "### 3. Data cleaning"
   ]
  },
  {
   "cell_type": "code",
   "execution_count": 17,
   "metadata": {},
   "outputs": [
    {
     "data": {
      "text/plain": [
       "UniqueID                                  0\n",
       "disbursed_amount                          0\n",
       "asset_cost                                0\n",
       "ltv                                       0\n",
       "branch_id                                 0\n",
       "Date.of.Birth                             0\n",
       "Employment.Type                        7661\n",
       "DisbursalDate                             0\n",
       "State_ID                                  0\n",
       "MobileNo_Avl_Flag                         0\n",
       "Aadhar_flag                               0\n",
       "PAN_flag                                  0\n",
       "VoterID_flag                              0\n",
       "Driving_flag                              0\n",
       "Passport_flag                             0\n",
       "PERFORM_CNS.SCORE                         0\n",
       "PERFORM_CNS.SCORE.DESCRIPTION             0\n",
       "PRI.NO.OF.ACCTS                           0\n",
       "PRI.ACTIVE.ACCTS                          0\n",
       "PRI.OVERDUE.ACCTS                         0\n",
       "PRI.CURRENT.BALANCE                       0\n",
       "PRI.SANCTIONED.AMOUNT                     0\n",
       "PRI.DISBURSED.AMOUNT                      0\n",
       "PRIMARY.INSTAL.AMT                        0\n",
       "NEW.ACCTS.IN.LAST.SIX.MONTHS              0\n",
       "DELINQUENT.ACCTS.IN.LAST.SIX.MONTHS       0\n",
       "AVERAGE.ACCT.AGE                          0\n",
       "CREDIT.HISTORY.LENGTH                     0\n",
       "NO.OF_INQUIRIES                           0\n",
       "loan_default                              0\n",
       "ST_NM                                     0\n",
       "geometry                                  0\n",
       "_merge                                    0\n",
       "dtype: int64"
      ]
     },
     "execution_count": 17,
     "metadata": {},
     "output_type": "execute_result"
    }
   ],
   "source": [
    "# Check for missing values.\n",
    "\n",
    "df_marged.isnull().sum()"
   ]
  },
  {
   "cell_type": "markdown",
   "metadata": {},
   "source": [
    "### 4. Plotting a choropleth"
   ]
  },
  {
   "cell_type": "code",
   "execution_count": 18,
   "metadata": {},
   "outputs": [],
   "source": [
    "# counts number of defaulted customer by states\n",
    "\n",
    "def_map = defaulted['ST_NM'].value_counts().reset_index()\n",
    "def_map.columns=['ST_NM', 'count']"
   ]
  },
  {
   "cell_type": "code",
   "execution_count": 19,
   "metadata": {},
   "outputs": [
    {
     "data": {
      "text/html": [
       "<div>\n",
       "<style scoped>\n",
       "    .dataframe tbody tr th:only-of-type {\n",
       "        vertical-align: middle;\n",
       "    }\n",
       "\n",
       "    .dataframe tbody tr th {\n",
       "        vertical-align: top;\n",
       "    }\n",
       "\n",
       "    .dataframe thead th {\n",
       "        text-align: right;\n",
       "    }\n",
       "</style>\n",
       "<table border=\"1\" class=\"dataframe\">\n",
       "  <thead>\n",
       "    <tr style=\"text-align: right;\">\n",
       "      <th></th>\n",
       "      <th>ST_NM</th>\n",
       "      <th>count</th>\n",
       "    </tr>\n",
       "  </thead>\n",
       "  <tbody>\n",
       "    <tr>\n",
       "      <th>0</th>\n",
       "      <td>West Bengal</td>\n",
       "      <td>9326</td>\n",
       "    </tr>\n",
       "    <tr>\n",
       "      <th>1</th>\n",
       "      <td>Tamil Nadu</td>\n",
       "      <td>6890</td>\n",
       "    </tr>\n",
       "    <tr>\n",
       "      <th>2</th>\n",
       "      <td>Bihar</td>\n",
       "      <td>6345</td>\n",
       "    </tr>\n",
       "    <tr>\n",
       "      <th>3</th>\n",
       "      <td>Kerala</td>\n",
       "      <td>5483</td>\n",
       "    </tr>\n",
       "    <tr>\n",
       "      <th>4</th>\n",
       "      <td>Gujarat</td>\n",
       "      <td>3492</td>\n",
       "    </tr>\n",
       "    <tr>\n",
       "      <th>5</th>\n",
       "      <td>Karnataka</td>\n",
       "      <td>3258</td>\n",
       "    </tr>\n",
       "    <tr>\n",
       "      <th>6</th>\n",
       "      <td>Jharkhand</td>\n",
       "      <td>2597</td>\n",
       "    </tr>\n",
       "    <tr>\n",
       "      <th>7</th>\n",
       "      <td>Madhya Pradesh</td>\n",
       "      <td>2023</td>\n",
       "    </tr>\n",
       "    <tr>\n",
       "      <th>8</th>\n",
       "      <td>Uttar Pradesh</td>\n",
       "      <td>1583</td>\n",
       "    </tr>\n",
       "    <tr>\n",
       "      <th>9</th>\n",
       "      <td>Odisha</td>\n",
       "      <td>1373</td>\n",
       "    </tr>\n",
       "    <tr>\n",
       "      <th>10</th>\n",
       "      <td>Rajasthan</td>\n",
       "      <td>1369</td>\n",
       "    </tr>\n",
       "    <tr>\n",
       "      <th>11</th>\n",
       "      <td>Haryana</td>\n",
       "      <td>1191</td>\n",
       "    </tr>\n",
       "    <tr>\n",
       "      <th>12</th>\n",
       "      <td>Maharashtra</td>\n",
       "      <td>1129</td>\n",
       "    </tr>\n",
       "    <tr>\n",
       "      <th>13</th>\n",
       "      <td>Telangana</td>\n",
       "      <td>1118</td>\n",
       "    </tr>\n",
       "    <tr>\n",
       "      <th>14</th>\n",
       "      <td>Assam</td>\n",
       "      <td>1068</td>\n",
       "    </tr>\n",
       "    <tr>\n",
       "      <th>15</th>\n",
       "      <td>Chhattisgarh</td>\n",
       "      <td>981</td>\n",
       "    </tr>\n",
       "    <tr>\n",
       "      <th>16</th>\n",
       "      <td>Andhra Pradesh</td>\n",
       "      <td>633</td>\n",
       "    </tr>\n",
       "    <tr>\n",
       "      <th>17</th>\n",
       "      <td>Punjab</td>\n",
       "      <td>493</td>\n",
       "    </tr>\n",
       "    <tr>\n",
       "      <th>18</th>\n",
       "      <td>Uttarakhand</td>\n",
       "      <td>187</td>\n",
       "    </tr>\n",
       "    <tr>\n",
       "      <th>19</th>\n",
       "      <td>Himachal Pradesh</td>\n",
       "      <td>32</td>\n",
       "    </tr>\n",
       "    <tr>\n",
       "      <th>20</th>\n",
       "      <td>Tripura</td>\n",
       "      <td>31</td>\n",
       "    </tr>\n",
       "    <tr>\n",
       "      <th>21</th>\n",
       "      <td>Meghalaya</td>\n",
       "      <td>9</td>\n",
       "    </tr>\n",
       "  </tbody>\n",
       "</table>\n",
       "</div>"
      ],
      "text/plain": [
       "               ST_NM  count\n",
       "0        West Bengal   9326\n",
       "1         Tamil Nadu   6890\n",
       "2              Bihar   6345\n",
       "3             Kerala   5483\n",
       "4            Gujarat   3492\n",
       "5          Karnataka   3258\n",
       "6          Jharkhand   2597\n",
       "7     Madhya Pradesh   2023\n",
       "8      Uttar Pradesh   1583\n",
       "9             Odisha   1373\n",
       "10         Rajasthan   1369\n",
       "11           Haryana   1191\n",
       "12       Maharashtra   1129\n",
       "13         Telangana   1118\n",
       "14             Assam   1068\n",
       "15      Chhattisgarh    981\n",
       "16    Andhra Pradesh    633\n",
       "17            Punjab    493\n",
       "18       Uttarakhand    187\n",
       "19  Himachal Pradesh     32\n",
       "20           Tripura     31\n",
       "21         Meghalaya      9"
      ]
     },
     "execution_count": 19,
     "metadata": {},
     "output_type": "execute_result"
    }
   ],
   "source": [
    "def_map"
   ]
  },
  {
   "cell_type": "code",
   "execution_count": 20,
   "metadata": {},
   "outputs": [],
   "source": [
    "def_map.to_csv(os.path.join(path, '02 Data','Prepared Data','nr_of_default_in_india.csv'))"
   ]
  },
  {
   "cell_type": "code",
   "execution_count": 21,
   "metadata": {},
   "outputs": [],
   "source": [
    "# merge with shapefile\n",
    "\n",
    "de_india = def_map.merge(India_with_id, how='left', on = ['ST_NM'])"
   ]
  },
  {
   "cell_type": "code",
   "execution_count": 22,
   "metadata": {},
   "outputs": [],
   "source": [
    "de_india.to_csv(os.path.join(path, '02 Data','Prepared Data','nr_of_default_in_india.csv'))"
   ]
  },
  {
   "cell_type": "code",
   "execution_count": 16,
   "metadata": {},
   "outputs": [],
   "source": [
    "# change data frame to recoginased by matplotlib\n",
    "\n",
    "de_india = GeoDataFrame(de_india)"
   ]
  },
  {
   "cell_type": "code",
   "execution_count": 17,
   "metadata": {},
   "outputs": [
    {
     "data": {
      "text/plain": [
       "ST_NM         object\n",
       "count          int64\n",
       "geometry    geometry\n",
       "State_ID       int64\n",
       "dtype: object"
      ]
     },
     "execution_count": 17,
     "metadata": {},
     "output_type": "execute_result"
    }
   ],
   "source": [
    "# make sure data type\n",
    "\n",
    "de_india.dtypes"
   ]
  },
  {
   "cell_type": "code",
   "execution_count": 18,
   "metadata": {},
   "outputs": [
    {
     "data": {
      "image/png": "[encoded data removed]",
      "text/plain": [
       "<Figure size 1080x1080 with 2 Axes>"
      ]
     },
     "metadata": {
      "needs_background": "light"
     },
     "output_type": "display_data"
    }
   ],
   "source": [
    "# Create a subplot with `fig` and `ax`.\n",
    "fig, ax = plt.subplots(1, figsize=(15, 15))\n",
    "\n",
    "tl = de_india.plot(column='count',\n",
    "cmap='Reds',      # Color map for the states                     \n",
    "             linewidth=0.6,      # Line width for state borders\n",
    "             ax=ax,              # Plotting the map on `ax`\n",
    "             edgecolor='black'); # State border colors\n",
    "\n",
    "plt.title('Number of defaulted customer by states in India', size=30)\n",
    "\n",
    "# Plot the colorbar.\n",
    "c_bar_colors = plt.cm.ScalarMappable(cmap='Reds', norm=plt.Normalize(vmin=de_india['count'].min(), vmax=de_india['count'].max()))\n",
    "color_bar = fig.colorbar(c_bar_colors)"
   ]
  },
  {
   "cell_type": "markdown",
   "metadata": {},
   "source": [
    "### Question 1. Does the analysis answer any of your existing research questions?"
   ]
  },
  {
   "cell_type": "markdown",
   "metadata": {},
   "source": [
    "#### This analysis answers the question of Which area has the highest number of defaults.　"
   ]
  },
  {
   "cell_type": "markdown",
   "metadata": {},
   "source": [
    "### Question 2. Does the analysis lead you to any new research questions?"
   ]
  },
  {
   "cell_type": "markdown",
   "metadata": {},
   "source": [
    "#### The analysis leads me to a new research question that is the cause of differentiating the number of default customers."
   ]
  },
  {
   "cell_type": "code",
   "execution_count": null,
   "metadata": {},
   "outputs": [],
   "source": []
  }
 ],
 "metadata": {
  "kernelspec": {
   "display_name": "Python 3",
   "language": "python",
   "name": "python3"
  },
  "language_info": {
   "codemirror_mode": {
    "name": "ipython",
    "version": 3
   },
   "file_extension": ".py",
   "mimetype": "text/x-python",
   "name": "python",
   "nbconvert_exporter": "python",
   "pygments_lexer": "ipython3",
   "version": "3.8.5"
  }
 },
 "nbformat": 4,
 "nbformat_minor": 4
}
